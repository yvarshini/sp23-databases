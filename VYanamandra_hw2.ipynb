{
 "cells": [
  {
   "cell_type": "markdown",
   "metadata": {},
   "source": [
    "# Homework 2"
   ]
  },
  {
   "cell_type": "markdown",
   "metadata": {},
   "source": [
    "In this homework you will be working with json data and TinyDB. The overall task is to query the Citibikes NYC server ( https://gbfs.citibikenyc.com/gbfs/en/station_status.json ), store the data in a TinyDB database, and infer activities for the stations. Sample starter code relating to these subtasks was discussed in class.\n",
    "\n",
    "\n",
    "You will be required to query the server at 3 different times of a day (preferably a weekday). Make sure that these times are spread apart by at least a couple of hours. 3 good times may be morning, afternoon, evening. \n",
    "\n",
    "You may query the data, save the results in 3 JSON files on your laptop, load the JSON files, and then insert them into the database. This approach may be easier rather than querying the data live each time you test the code. IMPORTANT: You need to insert one record (for each station) at a time into the database. Do not upload the entire JSON file into the database even if the database allows you to do this. \n",
    "\n",
    "\n",
    "Rename this file as <i>YourfirstinitialLastname.ipynb</i> and insert your code in the appropriate parts. For example, John Doe would name his solution file as <i>JDoe.ipynb</i> . \n",
    "\n",
    "Your database file should be named <i>citibikenyc-YourfirstinitialLastname.json</i> . John Doe's database file would be named <i>citibikenyc-JDoe.json</i> . \n",
    "\n",
    "Your submission should consist of both the ipynb file and the json file. \n",
    "\n",
    "<b>IMPORTANT</b> (1) Make sure that your code is organized, documented, and contains only what is being asked for in the question. (2) This homework requires you to run the code at three different times of a day (preferably a weekday), so make sure that you start the homework early.  "
   ]
  },
  {
   "cell_type": "markdown",
   "metadata": {},
   "source": [
    "## Part I (20 points)\n",
    "Query the Citibikes server and load the JSON data for the stations into a Python list.\n",
    "\n",
    "The JSON data containing information for each station as shown below. Note the field names. The id of the station is stored in a <b>string</b> field named <b>station_id</b>. The legacy id of the station is stored in a <b>string</b> field named <b>legacy_id</b>.\n",
    "\n",
    "{'num_scooters_unavailable': 0,\n",
    " 'last_reported': 1614989202,\n",
    " 'num_docks_disabled': 0,\n",
    " 'station_status': 'active',\n",
    " 'is_returning': 1,\n",
    " 'num_bikes_disabled': 1,\n",
    " 'num_ebikes_available': 0,\n",
    " 'is_renting': 1,\n",
    " 'legacy_id': '3340',\n",
    " 'station_id': '66de11bc-0aca-11e7-82f6-3863bb44ef7c',\n",
    " 'num_docks_available': 1,\n",
    " 'num_scooters_available': 0,\n",
    " 'is_installed': 1,\n",
    " 'eightd_has_available_keys': False,\n",
    " 'num_bikes_available': 19}\n",
    "\n",
    "Load the data for the stations into a Pandas DataFrame and display the first 10 rows. "
   ]
  },
  {
   "cell_type": "code",
   "execution_count": 1,
   "metadata": {},
   "outputs": [],
   "source": [
    "# importing required libraries\n",
    "import requests\n",
    "import pandas as pd\n",
    "import json"
   ]
  },
  {
   "cell_type": "code",
   "execution_count": 2,
   "metadata": {},
   "outputs": [],
   "source": [
    "# querying the citibikes servers for the data\n",
    "\n",
    "# Date: March 3rd, 2023 (Friday)\n",
    "\n",
    "# reading 1: 09:00 AM\n",
    "# stations_am = json.loads(response.content.decode('utf-8'))['data']['stations']\n",
    "# with open(\"./stations_am.json\", \"w\") as f:\n",
    "#     json.dump(stations_am, f)"
   ]
  },
  {
   "cell_type": "code",
   "execution_count": 3,
   "metadata": {},
   "outputs": [],
   "source": [
    "# loading the json arrays into python lists\n",
    "with open('./stations_am.json', 'r') as f:\n",
    "    stations_am = json.loads(f.read())"
   ]
  },
  {
   "cell_type": "code",
   "execution_count": 4,
   "metadata": {},
   "outputs": [
    {
     "data": {
      "text/plain": [
       "{'eightd_has_available_keys': False,\n",
       " 'num_bikes_disabled': 2,\n",
       " 'num_bikes_available': 0,\n",
       " 'num_docks_available': 38,\n",
       " 'station_status': 'active',\n",
       " 'is_renting': 1,\n",
       " 'num_scooters_available': 0,\n",
       " 'legacy_id': '3584',\n",
       " 'num_ebikes_available': 0,\n",
       " 'last_reported': 1677851898,\n",
       " 'is_installed': 1,\n",
       " 'num_scooters_unavailable': 0,\n",
       " 'num_docks_disabled': 0,\n",
       " 'station_id': '1dacb0f6-29f5-4d1b-b910-92ffa5b4ca5d',\n",
       " 'is_returning': 1}"
      ]
     },
     "execution_count": 4,
     "metadata": {},
     "output_type": "execute_result"
    }
   ],
   "source": [
    "# checking out one json object to get an idea of the general structure\n",
    "stations_am[0]"
   ]
  },
  {
   "cell_type": "code",
   "execution_count": 5,
   "metadata": {},
   "outputs": [
    {
     "data": {
      "text/plain": [
       "True"
      ]
     },
     "execution_count": 5,
     "metadata": {},
     "output_type": "execute_result"
    }
   ],
   "source": [
    "# loading the data into a pandas dataframe\n",
    "stations = pd.DataFrame(stations_am)\n",
    "# checking whether all the entries are in the dataframe\n",
    "len(stations) == len(stations_am)"
   ]
  },
  {
   "cell_type": "code",
   "execution_count": 6,
   "metadata": {},
   "outputs": [
    {
     "data": {
      "text/html": [
       "<div>\n",
       "<style scoped>\n",
       "    .dataframe tbody tr th:only-of-type {\n",
       "        vertical-align: middle;\n",
       "    }\n",
       "\n",
       "    .dataframe tbody tr th {\n",
       "        vertical-align: top;\n",
       "    }\n",
       "\n",
       "    .dataframe thead th {\n",
       "        text-align: right;\n",
       "    }\n",
       "</style>\n",
       "<table border=\"1\" class=\"dataframe\">\n",
       "  <thead>\n",
       "    <tr style=\"text-align: right;\">\n",
       "      <th></th>\n",
       "      <th>eightd_has_available_keys</th>\n",
       "      <th>num_bikes_disabled</th>\n",
       "      <th>num_bikes_available</th>\n",
       "      <th>num_docks_available</th>\n",
       "      <th>station_status</th>\n",
       "      <th>is_renting</th>\n",
       "      <th>num_scooters_available</th>\n",
       "      <th>legacy_id</th>\n",
       "      <th>num_ebikes_available</th>\n",
       "      <th>last_reported</th>\n",
       "      <th>is_installed</th>\n",
       "      <th>num_scooters_unavailable</th>\n",
       "      <th>num_docks_disabled</th>\n",
       "      <th>station_id</th>\n",
       "      <th>is_returning</th>\n",
       "      <th>eightd_active_station_services</th>\n",
       "      <th>valet</th>\n",
       "    </tr>\n",
       "  </thead>\n",
       "  <tbody>\n",
       "    <tr>\n",
       "      <th>0</th>\n",
       "      <td>False</td>\n",
       "      <td>2</td>\n",
       "      <td>0</td>\n",
       "      <td>38</td>\n",
       "      <td>active</td>\n",
       "      <td>1</td>\n",
       "      <td>0.0</td>\n",
       "      <td>3584</td>\n",
       "      <td>0</td>\n",
       "      <td>1677851898</td>\n",
       "      <td>1</td>\n",
       "      <td>0.0</td>\n",
       "      <td>0</td>\n",
       "      <td>1dacb0f6-29f5-4d1b-b910-92ffa5b4ca5d</td>\n",
       "      <td>1</td>\n",
       "      <td>NaN</td>\n",
       "      <td>NaN</td>\n",
       "    </tr>\n",
       "    <tr>\n",
       "      <th>1</th>\n",
       "      <td>False</td>\n",
       "      <td>2</td>\n",
       "      <td>14</td>\n",
       "      <td>4</td>\n",
       "      <td>active</td>\n",
       "      <td>1</td>\n",
       "      <td>0.0</td>\n",
       "      <td>4175</td>\n",
       "      <td>2</td>\n",
       "      <td>1677851906</td>\n",
       "      <td>1</td>\n",
       "      <td>0.0</td>\n",
       "      <td>0</td>\n",
       "      <td>4e747443-d481-4aea-a6d1-cf20204af4ba</td>\n",
       "      <td>1</td>\n",
       "      <td>NaN</td>\n",
       "      <td>NaN</td>\n",
       "    </tr>\n",
       "    <tr>\n",
       "      <th>2</th>\n",
       "      <td>False</td>\n",
       "      <td>2</td>\n",
       "      <td>10</td>\n",
       "      <td>8</td>\n",
       "      <td>active</td>\n",
       "      <td>1</td>\n",
       "      <td>0.0</td>\n",
       "      <td>4567</td>\n",
       "      <td>2</td>\n",
       "      <td>1677851907</td>\n",
       "      <td>1</td>\n",
       "      <td>0.0</td>\n",
       "      <td>0</td>\n",
       "      <td>6542d952-ca19-410e-9290-ee6b7a6e14cf</td>\n",
       "      <td>1</td>\n",
       "      <td>NaN</td>\n",
       "      <td>NaN</td>\n",
       "    </tr>\n",
       "    <tr>\n",
       "      <th>3</th>\n",
       "      <td>False</td>\n",
       "      <td>0</td>\n",
       "      <td>1</td>\n",
       "      <td>23</td>\n",
       "      <td>active</td>\n",
       "      <td>1</td>\n",
       "      <td>0.0</td>\n",
       "      <td>4565</td>\n",
       "      <td>1</td>\n",
       "      <td>1677851907</td>\n",
       "      <td>1</td>\n",
       "      <td>0.0</td>\n",
       "      <td>0</td>\n",
       "      <td>c8c39d85-4ce7-46c5-b709-998067200780</td>\n",
       "      <td>1</td>\n",
       "      <td>NaN</td>\n",
       "      <td>NaN</td>\n",
       "    </tr>\n",
       "    <tr>\n",
       "      <th>4</th>\n",
       "      <td>False</td>\n",
       "      <td>2</td>\n",
       "      <td>6</td>\n",
       "      <td>25</td>\n",
       "      <td>active</td>\n",
       "      <td>1</td>\n",
       "      <td>0.0</td>\n",
       "      <td>3814</td>\n",
       "      <td>4</td>\n",
       "      <td>1677851907</td>\n",
       "      <td>1</td>\n",
       "      <td>0.0</td>\n",
       "      <td>0</td>\n",
       "      <td>6fd61eee-d0ef-4580-9704-bd06b82bcb61</td>\n",
       "      <td>1</td>\n",
       "      <td>NaN</td>\n",
       "      <td>NaN</td>\n",
       "    </tr>\n",
       "    <tr>\n",
       "      <th>5</th>\n",
       "      <td>False</td>\n",
       "      <td>0</td>\n",
       "      <td>8</td>\n",
       "      <td>11</td>\n",
       "      <td>active</td>\n",
       "      <td>1</td>\n",
       "      <td>0.0</td>\n",
       "      <td>4efda436-cd19-4ec3-acc7-1a622f723264</td>\n",
       "      <td>1</td>\n",
       "      <td>1677851901</td>\n",
       "      <td>1</td>\n",
       "      <td>0.0</td>\n",
       "      <td>0</td>\n",
       "      <td>4efda436-cd19-4ec3-acc7-1a622f723264</td>\n",
       "      <td>1</td>\n",
       "      <td>NaN</td>\n",
       "      <td>NaN</td>\n",
       "    </tr>\n",
       "    <tr>\n",
       "      <th>6</th>\n",
       "      <td>False</td>\n",
       "      <td>0</td>\n",
       "      <td>3</td>\n",
       "      <td>32</td>\n",
       "      <td>active</td>\n",
       "      <td>1</td>\n",
       "      <td>0.0</td>\n",
       "      <td>3543</td>\n",
       "      <td>1</td>\n",
       "      <td>1677851901</td>\n",
       "      <td>1</td>\n",
       "      <td>0.0</td>\n",
       "      <td>0</td>\n",
       "      <td>d80c274e-d17d-4a00-9b76-274c9fe4d0e1</td>\n",
       "      <td>1</td>\n",
       "      <td>NaN</td>\n",
       "      <td>NaN</td>\n",
       "    </tr>\n",
       "    <tr>\n",
       "      <th>7</th>\n",
       "      <td>False</td>\n",
       "      <td>2</td>\n",
       "      <td>2</td>\n",
       "      <td>23</td>\n",
       "      <td>active</td>\n",
       "      <td>1</td>\n",
       "      <td>0.0</td>\n",
       "      <td>4184</td>\n",
       "      <td>2</td>\n",
       "      <td>1677851906</td>\n",
       "      <td>1</td>\n",
       "      <td>0.0</td>\n",
       "      <td>0</td>\n",
       "      <td>82c85f05-4722-48ae-9f64-0522012eb3c8</td>\n",
       "      <td>1</td>\n",
       "      <td>NaN</td>\n",
       "      <td>NaN</td>\n",
       "    </tr>\n",
       "    <tr>\n",
       "      <th>8</th>\n",
       "      <td>False</td>\n",
       "      <td>1</td>\n",
       "      <td>5</td>\n",
       "      <td>15</td>\n",
       "      <td>active</td>\n",
       "      <td>1</td>\n",
       "      <td>0.0</td>\n",
       "      <td>3498</td>\n",
       "      <td>2</td>\n",
       "      <td>1677851904</td>\n",
       "      <td>1</td>\n",
       "      <td>0.0</td>\n",
       "      <td>0</td>\n",
       "      <td>20ff5447-eac3-43b7-820f-f6fa3a2e12a8</td>\n",
       "      <td>1</td>\n",
       "      <td>NaN</td>\n",
       "      <td>NaN</td>\n",
       "    </tr>\n",
       "    <tr>\n",
       "      <th>9</th>\n",
       "      <td>False</td>\n",
       "      <td>1</td>\n",
       "      <td>10</td>\n",
       "      <td>8</td>\n",
       "      <td>active</td>\n",
       "      <td>1</td>\n",
       "      <td>0.0</td>\n",
       "      <td>2ebbe93b-a013-464a-b4a5-0eba96f89676</td>\n",
       "      <td>8</td>\n",
       "      <td>1677851904</td>\n",
       "      <td>1</td>\n",
       "      <td>0.0</td>\n",
       "      <td>0</td>\n",
       "      <td>2ebbe93b-a013-464a-b4a5-0eba96f89676</td>\n",
       "      <td>1</td>\n",
       "      <td>NaN</td>\n",
       "      <td>NaN</td>\n",
       "    </tr>\n",
       "  </tbody>\n",
       "</table>\n",
       "</div>"
      ],
      "text/plain": [
       "   eightd_has_available_keys  num_bikes_disabled  num_bikes_available  \\\n",
       "0                      False                   2                    0   \n",
       "1                      False                   2                   14   \n",
       "2                      False                   2                   10   \n",
       "3                      False                   0                    1   \n",
       "4                      False                   2                    6   \n",
       "5                      False                   0                    8   \n",
       "6                      False                   0                    3   \n",
       "7                      False                   2                    2   \n",
       "8                      False                   1                    5   \n",
       "9                      False                   1                   10   \n",
       "\n",
       "   num_docks_available station_status  is_renting  num_scooters_available  \\\n",
       "0                   38         active           1                     0.0   \n",
       "1                    4         active           1                     0.0   \n",
       "2                    8         active           1                     0.0   \n",
       "3                   23         active           1                     0.0   \n",
       "4                   25         active           1                     0.0   \n",
       "5                   11         active           1                     0.0   \n",
       "6                   32         active           1                     0.0   \n",
       "7                   23         active           1                     0.0   \n",
       "8                   15         active           1                     0.0   \n",
       "9                    8         active           1                     0.0   \n",
       "\n",
       "                              legacy_id  num_ebikes_available  last_reported  \\\n",
       "0                                  3584                     0     1677851898   \n",
       "1                                  4175                     2     1677851906   \n",
       "2                                  4567                     2     1677851907   \n",
       "3                                  4565                     1     1677851907   \n",
       "4                                  3814                     4     1677851907   \n",
       "5  4efda436-cd19-4ec3-acc7-1a622f723264                     1     1677851901   \n",
       "6                                  3543                     1     1677851901   \n",
       "7                                  4184                     2     1677851906   \n",
       "8                                  3498                     2     1677851904   \n",
       "9  2ebbe93b-a013-464a-b4a5-0eba96f89676                     8     1677851904   \n",
       "\n",
       "   is_installed  num_scooters_unavailable  num_docks_disabled  \\\n",
       "0             1                       0.0                   0   \n",
       "1             1                       0.0                   0   \n",
       "2             1                       0.0                   0   \n",
       "3             1                       0.0                   0   \n",
       "4             1                       0.0                   0   \n",
       "5             1                       0.0                   0   \n",
       "6             1                       0.0                   0   \n",
       "7             1                       0.0                   0   \n",
       "8             1                       0.0                   0   \n",
       "9             1                       0.0                   0   \n",
       "\n",
       "                             station_id  is_returning  \\\n",
       "0  1dacb0f6-29f5-4d1b-b910-92ffa5b4ca5d             1   \n",
       "1  4e747443-d481-4aea-a6d1-cf20204af4ba             1   \n",
       "2  6542d952-ca19-410e-9290-ee6b7a6e14cf             1   \n",
       "3  c8c39d85-4ce7-46c5-b709-998067200780             1   \n",
       "4  6fd61eee-d0ef-4580-9704-bd06b82bcb61             1   \n",
       "5  4efda436-cd19-4ec3-acc7-1a622f723264             1   \n",
       "6  d80c274e-d17d-4a00-9b76-274c9fe4d0e1             1   \n",
       "7  82c85f05-4722-48ae-9f64-0522012eb3c8             1   \n",
       "8  20ff5447-eac3-43b7-820f-f6fa3a2e12a8             1   \n",
       "9  2ebbe93b-a013-464a-b4a5-0eba96f89676             1   \n",
       "\n",
       "  eightd_active_station_services valet  \n",
       "0                            NaN   NaN  \n",
       "1                            NaN   NaN  \n",
       "2                            NaN   NaN  \n",
       "3                            NaN   NaN  \n",
       "4                            NaN   NaN  \n",
       "5                            NaN   NaN  \n",
       "6                            NaN   NaN  \n",
       "7                            NaN   NaN  \n",
       "8                            NaN   NaN  \n",
       "9                            NaN   NaN  "
      ]
     },
     "execution_count": 6,
     "metadata": {},
     "output_type": "execute_result"
    }
   ],
   "source": [
    "# displaying the first 10 rows of the dataframe\n",
    "stations.head(10)"
   ]
  },
  {
   "cell_type": "markdown",
   "metadata": {},
   "source": [
    "## Part II (20 points)\n",
    "\n",
    "Save your data into a TinyDB database with the following modifications: \n",
    "\n",
    "<i>num_bikes_available</i> and <i>last_reported</i> should both be lists of their singleton values. For example, the earlier record would look like the following in the database: \n",
    "\n",
    "{'num_scooters_unavailable': 0,\n",
    " <b>'last_reported': [1614989202]</b>,\n",
    " 'num_docks_disabled': 0,\n",
    " 'station_status': 'active',\n",
    " 'is_returning': 1,\n",
    " 'num_bikes_disabled': 1,\n",
    " 'num_ebikes_available': 0,\n",
    " 'is_renting': 1,\n",
    " 'legacy_id': '3340',\n",
    " 'station_id': '66de11bc-0aca-11e7-82f6-3863bb44ef7c',\n",
    " 'num_docks_available': 1,\n",
    " 'num_scooters_available': 0,\n",
    " 'is_installed': 1,\n",
    " 'eightd_has_available_keys': False,\n",
    " <b>'num_bikes_available': [19]</b>}\n",
    "\n",
    "(The last_reported field is in Epoch time, a common way of expressing timestamps in datastores. Try to understand what this time means through an internet search.) \n",
    "\n",
    "Query your database for two different station ids and show the results of your query. The results should look similar to the record above."
   ]
  },
  {
   "cell_type": "code",
   "execution_count": 7,
   "metadata": {},
   "outputs": [],
   "source": [
    "from tinydb import TinyDB, Query, table"
   ]
  },
  {
   "cell_type": "code",
   "execution_count": 8,
   "metadata": {},
   "outputs": [
    {
     "data": {
      "text/plain": [
       "{'eightd_has_available_keys': False,\n",
       " 'num_bikes_disabled': 2,\n",
       " 'num_bikes_available': [0],\n",
       " 'num_docks_available': 38,\n",
       " 'station_status': 'active',\n",
       " 'is_renting': 1,\n",
       " 'num_scooters_available': 0,\n",
       " 'legacy_id': '3584',\n",
       " 'num_ebikes_available': 0,\n",
       " 'last_reported': [1677851898],\n",
       " 'is_installed': 1,\n",
       " 'num_scooters_unavailable': 0,\n",
       " 'num_docks_disabled': 0,\n",
       " 'station_id': '1dacb0f6-29f5-4d1b-b910-92ffa5b4ca5d',\n",
       " 'is_returning': 1}"
      ]
     },
     "execution_count": 8,
     "metadata": {},
     "output_type": "execute_result"
    }
   ],
   "source": [
    "# converting 'last_reported' and 'num_bikes_available' into lists of their singleton values\n",
    "for i in range(len(stations_am)):\n",
    "    if stations_am[i]['last_reported'] == None:\n",
    "        stations_am[i]['last_reported'] = []\n",
    "    else:\n",
    "        stations_am[i]['last_reported'] = [stations_am[i]['last_reported']]\n",
    "    if stations_am[i]['num_bikes_available'] == None:\n",
    "        stations_am[i]['num_bikes_available'] = []\n",
    "    else:\n",
    "        stations_am[i]['num_bikes_available'] = [stations_am[i]['num_bikes_available']]\n",
    "    \n",
    "stations_am[0]"
   ]
  },
  {
   "cell_type": "code",
   "execution_count": 9,
   "metadata": {},
   "outputs": [
    {
     "data": {
      "text/plain": [
       "[]"
      ]
     },
     "execution_count": 9,
     "metadata": {},
     "output_type": "execute_result"
    }
   ],
   "source": [
    "# creating a TinyDB database\n",
    "db = TinyDB('./citibikenyc-VYanamandra.json')\n",
    "db.truncate()\n",
    "db.all()"
   ]
  },
  {
   "cell_type": "code",
   "execution_count": 10,
   "metadata": {},
   "outputs": [],
   "source": [
    "# saving the json objects into TinyDB one-by-one using a for-loop\n",
    "for x in stations_am:\n",
    "    db.insert(x)"
   ]
  },
  {
   "cell_type": "code",
   "execution_count": 11,
   "metadata": {},
   "outputs": [
    {
     "data": {
      "text/plain": [
       "[{'eightd_has_available_keys': False,\n",
       "  'num_bikes_disabled': 2,\n",
       "  'num_bikes_available': [2],\n",
       "  'num_docks_available': 23,\n",
       "  'station_status': 'active',\n",
       "  'is_renting': 1,\n",
       "  'num_scooters_available': 0,\n",
       "  'legacy_id': '4184',\n",
       "  'num_ebikes_available': 2,\n",
       "  'last_reported': [1677851906],\n",
       "  'is_installed': 1,\n",
       "  'num_scooters_unavailable': 0,\n",
       "  'num_docks_disabled': 0,\n",
       "  'station_id': '82c85f05-4722-48ae-9f64-0522012eb3c8',\n",
       "  'is_returning': 1}]"
      ]
     },
     "execution_count": 11,
     "metadata": {},
     "output_type": "execute_result"
    }
   ],
   "source": [
    "# query 1\n",
    "q = Query()\n",
    "db.search(q.station_id == '82c85f05-4722-48ae-9f64-0522012eb3c8')"
   ]
  },
  {
   "cell_type": "code",
   "execution_count": 12,
   "metadata": {},
   "outputs": [
    {
     "data": {
      "text/plain": [
       "[{'eightd_has_available_keys': False,\n",
       "  'num_bikes_disabled': 0,\n",
       "  'num_bikes_available': [1],\n",
       "  'num_docks_available': 23,\n",
       "  'station_status': 'active',\n",
       "  'is_renting': 1,\n",
       "  'num_scooters_available': 0,\n",
       "  'legacy_id': '4565',\n",
       "  'num_ebikes_available': 1,\n",
       "  'last_reported': [1677851907],\n",
       "  'is_installed': 1,\n",
       "  'num_scooters_unavailable': 0,\n",
       "  'num_docks_disabled': 0,\n",
       "  'station_id': 'c8c39d85-4ce7-46c5-b709-998067200780',\n",
       "  'is_returning': 1}]"
      ]
     },
     "execution_count": 12,
     "metadata": {},
     "output_type": "execute_result"
    }
   ],
   "source": [
    "# query 2\n",
    "db.search(q.station_id == 'c8c39d85-4ce7-46c5-b709-998067200780')"
   ]
  },
  {
   "cell_type": "markdown",
   "metadata": {},
   "source": [
    "## Part III (20 points)\n",
    "\n",
    "Query the server at least two additional times on the same day as Part I to collect two additional datasets. Make sure that these times are spread apart by at least a couple of hours. You could, for example, query in the morning for Part I and in the afternoon and evening for this part. \n",
    "\n",
    "(You may query for all the data on a single day, save the results in 3 JSON files and load the JSON files as JSON Objects and then insert them into the database. This approach may be easier rather than querying the data live each time you test the code.)\n",
    "\n",
    "Merge the collected data for the fields <i>num_bikes_available</i> and <i>last_reported</i> for each station into the database by appending to the appropriate lists in the database. Note that this operation may take a while to complete. \n",
    "\n",
    "IMPORTANT: Define a function that you will invoke twice to add the 2 sets of data.\n",
    "\n",
    "The data for a station may look like the following after the merge:\n",
    "\n",
    "{'num_scooters_unavailable': 0,\n",
    " 'last_reported': <b>'last_reported': [1614989202, 1614990202, 1614991805]</b>,\n",
    " 'num_docks_disabled': 0,\n",
    " 'station_status': 'active',\n",
    " 'is_returning': 1,\n",
    " 'num_bikes_disabled': 1,\n",
    " 'num_ebikes_available': 0,\n",
    " 'is_renting': 1,\n",
    " 'legacy_id': '3340',\n",
    " 'station_id': '66de11bc-0aca-11e7-82f6-3863bb44ef7c',\n",
    " 'num_docks_available': 1,\n",
    " 'num_scooters_available': 0,\n",
    " 'is_installed': 1,\n",
    " 'eightd_has_available_keys': False,\n",
    " <b>'num_bikes_available': [19, 16, 20]</b>}\n",
    "\n",
    "\n",
    "Note: It is possible, but not highly likely, that a station may be added or deleted between different queries. You may get some errors if this happens. It is good to guard against this event. \n",
    "\n",
    "Query your database for the same station ids as in Part II and show the results."
   ]
  },
  {
   "cell_type": "code",
   "execution_count": 13,
   "metadata": {},
   "outputs": [],
   "source": [
    "# querying the citibikes servers for readings 2 and 3, made on the same day as reading 1\n",
    "\n",
    "# reading 2: 01:00 PM\n",
    "# stations_noon = json.loads(response.content.decode('utf-8'))['data']['stations']\n",
    "# with open(\"./stations_noon.json\", \"w\") as f:\n",
    "#     json.dump(stations_noon, f)\n",
    "\n",
    "# reading 3: 05:30 PM\n",
    "# response = requests.get(\"https://gbfs.citibikenyc.com/gbfs/en/station_status.json\")\n",
    "# stations_pm = json.loads(response.content.decode('utf-8'))['data']['stations']\n",
    "# with open(\"./stations_pm.json\", \"w\") as f:\n",
    "#     json.dump(stations_pm, f)"
   ]
  },
  {
   "cell_type": "code",
   "execution_count": 14,
   "metadata": {},
   "outputs": [],
   "source": [
    "# loading the data into python lists\n",
    "with open('./stations_noon.json', 'r') as f:\n",
    "    stations_noon = json.loads(f.read())\n",
    "    \n",
    "with open('./stations_pm.json', 'r') as f:\n",
    "    stations_pm = json.loads(f.read())"
   ]
  },
  {
   "cell_type": "code",
   "execution_count": 15,
   "metadata": {},
   "outputs": [],
   "source": [
    "def merge_citidata(db, json_object):\n",
    "    '''\n",
    "        Function to merge the data from a json array into TinyDB. \n",
    "        If the station_id does not exist in any record in the database, a new record is added.\n",
    "        If the station_id exists in a record in the database, the 'last_reported' and 'num_bikes_available' \n",
    "        values are appendedto the corresponding fields in the record.\n",
    "    '''\n",
    "    for j in json_object:\n",
    "        x = db.search(q.station_id == j['station_id'])\n",
    "        if not x:\n",
    "            j['last_reported'] = [j['last_reported']]\n",
    "            j['num_bikes_available'] = [j['num_bikes_available']]\n",
    "            db.insert(j)\n",
    "        else:\n",
    "            x[0]['last_reported'].append(j['last_reported'])\n",
    "            x[0]['num_bikes_available'].append(j['num_bikes_available'])\n",
    "            db.update({'last_reported': x[0]['last_reported'], 'num_bikes_available': x[0]['num_bikes_available']}, q.station_id == j['station_id'])\n",
    "            "
   ]
  },
  {
   "cell_type": "code",
   "execution_count": 16,
   "metadata": {},
   "outputs": [],
   "source": [
    "# mergining stations_noon data with existing data in the database\n",
    "merge_citidata(db, stations_noon)"
   ]
  },
  {
   "cell_type": "code",
   "execution_count": 17,
   "metadata": {},
   "outputs": [],
   "source": [
    "# mergining stations_pm data with existing data in the database\n",
    "merge_citidata(db, stations_pm)"
   ]
  },
  {
   "cell_type": "code",
   "execution_count": 18,
   "metadata": {},
   "outputs": [
    {
     "data": {
      "text/plain": [
       "[{'eightd_has_available_keys': False,\n",
       "  'num_bikes_disabled': 2,\n",
       "  'num_bikes_available': [2, 1, 0],\n",
       "  'num_docks_available': 23,\n",
       "  'station_status': 'active',\n",
       "  'is_renting': 1,\n",
       "  'num_scooters_available': 0,\n",
       "  'legacy_id': '4184',\n",
       "  'num_ebikes_available': 2,\n",
       "  'last_reported': [1677851906, 1677866361, 1677882395],\n",
       "  'is_installed': 1,\n",
       "  'num_scooters_unavailable': 0,\n",
       "  'num_docks_disabled': 0,\n",
       "  'station_id': '82c85f05-4722-48ae-9f64-0522012eb3c8',\n",
       "  'is_returning': 1}]"
      ]
     },
     "execution_count": 18,
     "metadata": {},
     "output_type": "execute_result"
    }
   ],
   "source": [
    "# query 1\n",
    "db.search(q.station_id == '82c85f05-4722-48ae-9f64-0522012eb3c8')"
   ]
  },
  {
   "cell_type": "code",
   "execution_count": 19,
   "metadata": {},
   "outputs": [
    {
     "data": {
      "text/plain": [
       "[{'eightd_has_available_keys': False,\n",
       "  'num_bikes_disabled': 0,\n",
       "  'num_bikes_available': [1, 2, 1],\n",
       "  'num_docks_available': 23,\n",
       "  'station_status': 'active',\n",
       "  'is_renting': 1,\n",
       "  'num_scooters_available': 0,\n",
       "  'legacy_id': '4565',\n",
       "  'num_ebikes_available': 1,\n",
       "  'last_reported': [1677851907, 1677866378, 1677882405],\n",
       "  'is_installed': 1,\n",
       "  'num_scooters_unavailable': 0,\n",
       "  'num_docks_disabled': 0,\n",
       "  'station_id': 'c8c39d85-4ce7-46c5-b709-998067200780',\n",
       "  'is_returning': 1}]"
      ]
     },
     "execution_count": 19,
     "metadata": {},
     "output_type": "execute_result"
    }
   ],
   "source": [
    "# query 2\n",
    "db.search(q.station_id == 'c8c39d85-4ce7-46c5-b709-998067200780')"
   ]
  },
  {
   "cell_type": "markdown",
   "metadata": {},
   "source": [
    "## Part IV (20 points)\n",
    "\n",
    "Insert an additional field named <i>activity</i> into the record for each station in the database. The value for this field should capture the absolute difference between the number of available bikes for each successive pair of queries to the citibikenyc server. For example, the record for station with legacy_id 3340 would look like the following: \n",
    "\n",
    "{'num_scooters_unavailable': 0,\n",
    " 'last_reported': <b>'last_reported': [1614989202, 1614990202, 1614991805]</b>,\n",
    " 'num_docks_disabled': 0,\n",
    " 'station_status': 'active',\n",
    " 'is_returning': 1,\n",
    " 'num_bikes_disabled': 1,\n",
    " 'num_ebikes_available': 0,\n",
    " 'is_renting': 1,\n",
    " 'legacy_id': '3340',\n",
    " 'station_id': '66de11bc-0aca-11e7-82f6-3863bb44ef7c',\n",
    " 'num_docks_available': 1,\n",
    " 'num_scooters_available': 0,\n",
    " 'is_installed': 1,\n",
    " 'eightd_has_available_keys': False,\n",
    " <b>'num_bikes_available': [19, 16, 20]</b>, <b>'activity': [3, 4]</b>}\n",
    " \n",
    "\n",
    "Note: The activity field is capturing the number of bikes rented out/returned in the two time intervals between the three queries to the citibikenyc server. \n",
    "\n",
    "\n",
    "Query your database for the same station ids as in Part III and IV and show the results."
   ]
  },
  {
   "cell_type": "code",
   "execution_count": 20,
   "metadata": {},
   "outputs": [],
   "source": [
    "def add_activity(db):\n",
    "    db_all = db.all()\n",
    "    for x in db_all:\n",
    "        ac = []\n",
    "        for i in range(1, len(x['num_bikes_available'])):\n",
    "            ac.append(abs(x['num_bikes_available'][i] - x['num_bikes_available'][i-1]))\n",
    "        db.update({'activity': ac}, q.station_id == x['station_id'])"
   ]
  },
  {
   "cell_type": "code",
   "execution_count": 21,
   "metadata": {},
   "outputs": [],
   "source": [
    "add_activity(db)"
   ]
  },
  {
   "cell_type": "code",
   "execution_count": 22,
   "metadata": {},
   "outputs": [
    {
     "data": {
      "text/plain": [
       "[{'eightd_has_available_keys': False,\n",
       "  'num_bikes_disabled': 2,\n",
       "  'num_bikes_available': [2, 1, 0],\n",
       "  'num_docks_available': 23,\n",
       "  'station_status': 'active',\n",
       "  'is_renting': 1,\n",
       "  'num_scooters_available': 0,\n",
       "  'legacy_id': '4184',\n",
       "  'num_ebikes_available': 2,\n",
       "  'last_reported': [1677851906, 1677866361, 1677882395],\n",
       "  'is_installed': 1,\n",
       "  'num_scooters_unavailable': 0,\n",
       "  'num_docks_disabled': 0,\n",
       "  'station_id': '82c85f05-4722-48ae-9f64-0522012eb3c8',\n",
       "  'is_returning': 1,\n",
       "  'activity': [1, 1]}]"
      ]
     },
     "execution_count": 22,
     "metadata": {},
     "output_type": "execute_result"
    }
   ],
   "source": [
    "# query 1\n",
    "db.search(q.station_id == '82c85f05-4722-48ae-9f64-0522012eb3c8')"
   ]
  },
  {
   "cell_type": "code",
   "execution_count": 23,
   "metadata": {},
   "outputs": [
    {
     "data": {
      "text/plain": [
       "[{'eightd_has_available_keys': False,\n",
       "  'num_bikes_disabled': 0,\n",
       "  'num_bikes_available': [1, 2, 1],\n",
       "  'num_docks_available': 23,\n",
       "  'station_status': 'active',\n",
       "  'is_renting': 1,\n",
       "  'num_scooters_available': 0,\n",
       "  'legacy_id': '4565',\n",
       "  'num_ebikes_available': 1,\n",
       "  'last_reported': [1677851907, 1677866378, 1677882405],\n",
       "  'is_installed': 1,\n",
       "  'num_scooters_unavailable': 0,\n",
       "  'num_docks_disabled': 0,\n",
       "  'station_id': 'c8c39d85-4ce7-46c5-b709-998067200780',\n",
       "  'is_returning': 1,\n",
       "  'activity': [1, 1]}]"
      ]
     },
     "execution_count": 23,
     "metadata": {},
     "output_type": "execute_result"
    }
   ],
   "source": [
    "# query 2\n",
    "db.search(q.station_id == 'c8c39d85-4ce7-46c5-b709-998067200780')"
   ]
  },
  {
   "cell_type": "markdown",
   "metadata": {},
   "source": [
    "## Part V (20 points)¶\n",
    "\n",
    "Query your database to compute the number of stations with high activity (>=20) and low activity (<=5) in each of the two time intervals. Display your results. They may look like the following (the actual numbers may differ):\n",
    "\n",
    "High Activity Stations [10, 29]\n",
    "\n",
    "Low Activity Stations [205, 308]\n",
    "\n",
    "There will be 4 counts in total. A station with activity [25, 3] will contribute towards the count for High Activity Stations in the first interval and contribute towards the count for the Low Activity Stations in the second interval. Note that general form of the matrix for the result is as follows:\n",
    "\n",
    "High Activity Stations [x1, x2]\n",
    "\n",
    "Low Activity Stations [y1, y2]\n",
    "\n",
    "x1 and y1 are the counts for the first interval and x2 and y2 are the counts for the second interval. \n",
    "\n",
    "The station in the example above (activity [25,3]) will contribute to the value of x1 and y2. \n",
    "\n",
    " If there are just two stations with activity [25,3] and [30, 25], the results would be\n",
    "\n",
    "          High Activity Stations [2, 1]\n",
    "          Low Activity Stations [0, 1]"
   ]
  },
  {
   "cell_type": "code",
   "execution_count": 24,
   "metadata": {},
   "outputs": [],
   "source": [
    "hi1, hi2 = 0, 0\n",
    "lo1, lo2 = 0, 0\n",
    "\n",
    "for x in db.all():\n",
    "    ac = x['activity']\n",
    "    # there might be less than 2 entries in activity if new stations were added in the latter times\n",
    "    if len(ac) == 2: \n",
    "        # interval 1\n",
    "        if ac[0] >= 20:\n",
    "            hi1 += 1\n",
    "        elif ac[0] <= 5:\n",
    "            lo1 += 1\n",
    "        # interval 2    \n",
    "        if ac[1] >= 20:\n",
    "            hi2 += 1\n",
    "        elif ac[1] <= 5:\n",
    "            lo2 += 1"
   ]
  },
  {
   "cell_type": "code",
   "execution_count": 25,
   "metadata": {},
   "outputs": [
    {
     "name": "stdout",
     "output_type": "stream",
     "text": [
      "High Activity Stations  [16, 28]\n",
      "Low Activity Stations  [1648, 1626]\n"
     ]
    }
   ],
   "source": [
    "print(\"High Activity Stations \", [hi1, hi2])\n",
    "print(\"Low Activity Stations \", [lo1, lo2])"
   ]
  }
 ],
 "metadata": {
  "kernelspec": {
   "display_name": "Python 3 (ipykernel)",
   "language": "python",
   "name": "python3"
  },
  "language_info": {
   "codemirror_mode": {
    "name": "ipython",
    "version": 3
   },
   "file_extension": ".py",
   "mimetype": "text/x-python",
   "name": "python",
   "nbconvert_exporter": "python",
   "pygments_lexer": "ipython3",
   "version": "3.9.13"
  },
  "toc": {
   "base_numbering": 1,
   "nav_menu": {},
   "number_sections": true,
   "sideBar": true,
   "skip_h1_title": false,
   "title_cell": "Table of Contents",
   "title_sidebar": "Contents",
   "toc_cell": false,
   "toc_position": {},
   "toc_section_display": true,
   "toc_window_display": false
  }
 },
 "nbformat": 4,
 "nbformat_minor": 1
}
